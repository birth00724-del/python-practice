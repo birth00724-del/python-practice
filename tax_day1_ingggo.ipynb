{
  "nbformat": 4,
  "nbformat_minor": 0,
  "metadata": {
    "colab": {
      "provenance": [],
      "toc_visible": true,
      "authorship_tag": "ABX9TyMdhqLNpafuxLxED6jN3Zoe",
      "include_colab_link": true
    },
    "kernelspec": {
      "name": "python3",
      "display_name": "Python 3"
    },
    "language_info": {
      "name": "python"
    }
  },
  "cells": [
    {
      "cell_type": "markdown",
      "metadata": {
        "id": "view-in-github",
        "colab_type": "text"
      },
      "source": [
        "<a href=\"https://colab.research.google.com/github/birth00724-del/python-practice/blob/main/tax_day1_ingggo.ipynb\" target=\"_parent\"><img src=\"https://colab.research.google.com/assets/colab-badge.svg\" alt=\"Open In Colab\"/></a>"
      ]
    },
    {
      "cell_type": "markdown",
      "source": [
        "#파이썬 첫번째"
      ],
      "metadata": {
        "id": "MqZSBIhEY7C4"
      }
    },
    {
      "cell_type": "markdown",
      "source": [
        "##코드(더하기)"
      ],
      "metadata": {
        "id": "nhFMdb7qZ3c_"
      }
    },
    {
      "cell_type": "markdown",
      "source": [
        "###서브서브세션"
      ],
      "metadata": {
        "id": "3jwnUj4yaAAP"
      }
    },
    {
      "cell_type": "code",
      "execution_count": 1,
      "metadata": {
        "colab": {
          "base_uri": "https://localhost:8080/"
        },
        "id": "AjQ01LP_WtrP",
        "outputId": "2d43ee5e-71c9-4117-d37c-eb60171ae751"
      },
      "outputs": [
        {
          "output_type": "execute_result",
          "data": {
            "text/plain": [
              "2"
            ]
          },
          "metadata": {},
          "execution_count": 1
        }
      ],
      "source": [
        "1+1"
      ]
    },
    {
      "cell_type": "markdown",
      "source": [
        "#파이썬 두번째"
      ],
      "metadata": {
        "id": "sDWZqo_nZIxI"
      }
    },
    {
      "cell_type": "code",
      "source": [
        "2*5"
      ],
      "metadata": {
        "colab": {
          "base_uri": "https://localhost:8080/"
        },
        "id": "ivmRAALwYX9w",
        "outputId": "c346bb31-b2a3-4574-9a13-573ca3f2974f"
      },
      "execution_count": 3,
      "outputs": [
        {
          "output_type": "execute_result",
          "data": {
            "text/plain": [
              "10"
            ]
          },
          "metadata": {},
          "execution_count": 3
        }
      ]
    },
    {
      "cell_type": "markdown",
      "source": [
        "#파이썬 세번째"
      ],
      "metadata": {
        "id": "Mnk7aQLXZcYJ"
      }
    },
    {
      "cell_type": "code",
      "source": [
        "print(\"Hello, world!\")"
      ],
      "metadata": {
        "colab": {
          "base_uri": "https://localhost:8080/"
        },
        "id": "yDkZ5M6MZgiA",
        "outputId": "f311e340-09c1-4c58-f7af-7829c73d81ff"
      },
      "execution_count": 4,
      "outputs": [
        {
          "output_type": "stream",
          "name": "stdout",
          "text": [
            "Hello, world!\n"
          ]
        }
      ]
    },
    {
      "cell_type": "code",
      "source": [
        "name = \"홍길동\"\n",
        "age = 25\n",
        "height = 175.5\n",
        "\n",
        "print(name, \"님의 나이는\", age, \"살입니다.\")\n"
      ],
      "metadata": {
        "colab": {
          "base_uri": "https://localhost:8080/"
        },
        "id": "Q9ftMRvja-A4",
        "outputId": "246ef150-125d-4b5d-b30b-32c678d7509f"
      },
      "execution_count": 5,
      "outputs": [
        {
          "output_type": "stream",
          "name": "stdout",
          "text": [
            "홍길동 님의 나이는 25 살입니다.\n"
          ]
        }
      ]
    },
    {
      "cell_type": "code",
      "source": [
        "a = 10\n",
        "b = 3\n",
        "\n",
        "print(\"더하기:\", a + b)\n",
        "print(\"빼기:\", a - b)\n",
        "print(\"곱하기:\", a * b)\n",
        "print(\"나누기:\", a / b)\n",
        "print(\"나머지:\", a % b)\n"
      ],
      "metadata": {
        "colab": {
          "base_uri": "https://localhost:8080/"
        },
        "id": "uJJq4rORbhE3",
        "outputId": "7479af79-3bc0-46b3-d58b-0e03c24300c6"
      },
      "execution_count": 6,
      "outputs": [
        {
          "output_type": "stream",
          "name": "stdout",
          "text": [
            "더하기: 13\n",
            "빼기: 7\n",
            "곱하기: 30\n",
            "나누기: 3.3333333333333335\n",
            "나머지: 1\n"
          ]
        }
      ]
    },
    {
      "cell_type": "code",
      "source": [
        "score = 85\n",
        "\n",
        "if score >= 90:\n",
        "    print(\"A 학점\")\n",
        "elif score >= 80:\n",
        "    print(\"B 학점\")\n",
        "else:\n",
        "    print(\"C 학점 이하\")\n"
      ],
      "metadata": {
        "colab": {
          "base_uri": "https://localhost:8080/"
        },
        "id": "ktJI0UQxd69w",
        "outputId": "0030d9cd-c68b-4849-b9de-141286200c17"
      },
      "execution_count": 7,
      "outputs": [
        {
          "output_type": "stream",
          "name": "stdout",
          "text": [
            "B 학점\n"
          ]
        }
      ]
    },
    {
      "cell_type": "code",
      "source": [
        "score = 60\n",
        "\n",
        "if score >= 90:\n",
        "    print(\"A 학점\")\n",
        "elif score >= 80:\n",
        "    print(\"B 학점\")\n",
        "else:\n",
        "    print(\"C 학점 이하\")\n"
      ],
      "metadata": {
        "colab": {
          "base_uri": "https://localhost:8080/"
        },
        "id": "49jueARNd-tY",
        "outputId": "a06133a8-126a-4989-a785-040d6e75f481"
      },
      "execution_count": 8,
      "outputs": [
        {
          "output_type": "stream",
          "name": "stdout",
          "text": [
            "C 학점 이하\n"
          ]
        }
      ]
    },
    {
      "cell_type": "code",
      "source": [
        "# for문\n",
        "for i in range(5):\n",
        "    print(\"반복:\", i)\n",
        "\n",
        "# while문\n",
        "count = 0\n",
        "while count < 3:\n",
        "    print(\"Hello!\")\n",
        "    count += 1\n"
      ],
      "metadata": {
        "colab": {
          "base_uri": "https://localhost:8080/"
        },
        "id": "DiVesckWeDv3",
        "outputId": "9dda5dd0-d8f0-45a5-ae87-8e886b621ecc"
      },
      "execution_count": 9,
      "outputs": [
        {
          "output_type": "stream",
          "name": "stdout",
          "text": [
            "반복: 0\n",
            "반복: 1\n",
            "반복: 2\n",
            "반복: 3\n",
            "반복: 4\n",
            "Hello!\n",
            "Hello!\n",
            "Hello!\n"
          ]
        }
      ]
    },
    {
      "cell_type": "code",
      "source": [],
      "metadata": {
        "id": "Afq_ChMbeFl-"
      },
      "execution_count": null,
      "outputs": []
    }
  ]
}